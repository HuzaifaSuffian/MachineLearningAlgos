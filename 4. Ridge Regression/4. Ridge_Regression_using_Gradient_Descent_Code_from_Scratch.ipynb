{
  "nbformat": 4,
  "nbformat_minor": 0,
  "metadata": {
    "colab": {
      "provenance": []
    },
    "kernelspec": {
      "name": "python3",
      "display_name": "Python 3"
    },
    "language_info": {
      "name": "python"
    }
  },
  "cells": [
    {
      "cell_type": "code",
      "execution_count": 35,
      "metadata": {
        "id": "m55WKfzssXU2"
      },
      "outputs": [],
      "source": [
        "from sklearn.datasets import load_diabetes\n",
        "\n",
        "import numpy as np\n",
        "from sklearn.metrics import r2_score"
      ]
    },
    {
      "cell_type": "code",
      "source": [
        "data = load_diabetes()"
      ],
      "metadata": {
        "id": "TmcfN3tQsuYm"
      },
      "execution_count": 36,
      "outputs": []
    },
    {
      "cell_type": "code",
      "source": [
        "X = data.data\n",
        "y = data.target"
      ],
      "metadata": {
        "id": "7O8AbxC5sydl"
      },
      "execution_count": 37,
      "outputs": []
    },
    {
      "cell_type": "code",
      "source": [
        "from sklearn.model_selection import train_test_split\n",
        "X_train,X_test,y_train,y_test = train_test_split(X,y, test_size=0.2, random_state=2)"
      ],
      "metadata": {
        "id": "Nq_utuAhtoK9"
      },
      "execution_count": 38,
      "outputs": []
    },
    {
      "cell_type": "code",
      "source": [
        "from sklearn.linear_model import SGDRegressor\n",
        "reg = SGDRegressor(penalty='l2', alpha=0.001, max_iter=100, eta0=0.1, learning_rate='constant')"
      ],
      "metadata": {
        "id": "VREhl5qus25T"
      },
      "execution_count": 39,
      "outputs": []
    },
    {
      "cell_type": "code",
      "source": [
        "reg.fit(X_train,y_train)\n",
        "y_pred = reg.predict(X_test)\n",
        "\n",
        "print(reg.coef_)\n",
        "print(reg.intercept_)\n",
        "print(r2_score(y_test,y_pred))"
      ],
      "metadata": {
        "colab": {
          "base_uri": "https://localhost:8080/"
        },
        "id": "FgV2aC4othWm",
        "outputId": "81d58195-ee13-4f7e-f71e-97be60c60386"
      },
      "execution_count": 40,
      "outputs": [
        {
          "output_type": "stream",
          "name": "stdout",
          "text": [
            "[  27.41192743 -122.84470131  393.92861454  264.27910181  -13.75454918\n",
            "  -71.54980975 -168.55102649  104.01723502  366.63180556   98.53762002]\n",
            "[157.596028]\n",
            "0.4459535267857486\n"
          ]
        }
      ]
    },
    {
      "cell_type": "code",
      "source": [
        "# Applying Gradient Descent using Ridge Class (using different solver)\n",
        "from sklearn.linear_model import Ridge\n",
        "mr = Ridge(alpha=0.001,solver='sparse_cg',max_iter=100)"
      ],
      "metadata": {
        "id": "0MoMeVP2uHTS"
      },
      "execution_count": 41,
      "outputs": []
    },
    {
      "cell_type": "code",
      "source": [
        "# Result and Performance of model\n",
        "mr.fit(X_train,y_train)\n",
        "y_pred = mr.predict(X_test)\n",
        "\n",
        "print(mr.coef_)\n",
        "print(mr.intercept_)\n",
        "print(r2_score(y_test,y_pred))"
      ],
      "metadata": {
        "colab": {
          "base_uri": "https://localhost:8080/"
        },
        "id": "xTR3ySjau0WY",
        "outputId": "3119baaa-ee82-4cbe-d3fa-9ae4868c7b6c"
      },
      "execution_count": 42,
      "outputs": [
        {
          "output_type": "stream",
          "name": "stdout",
          "text": [
            "[  -8.76148626 -204.3134038   518.38060964  339.96792698 -787.70050902\n",
            "  475.28218248  106.79525197  114.62926652  819.74572421   52.87335061]\n",
            "151.88534078043028\n",
            "0.44086171110501016\n"
          ]
        }
      ]
    },
    {
      "cell_type": "code",
      "source": [
        "# Creating Our own ridge class\n",
        "class MyGDRidge:\n",
        "\n",
        "  def __init__(self,alpha=0.1,epochs=100,learning_rate=0.1):\n",
        "    self.alpha = alpha\n",
        "    self.epochs = epochs\n",
        "    self.learning_rate = learning_rate\n",
        "    self.coef_ = None\n",
        "    self.intercept_ = None\n",
        "\n",
        "  def fit(self,X_train,y_train):\n",
        "    # Initial values for intercept and coef\n",
        "    self.intercept_ = 0\n",
        "    self.coef_ = np.ones(X_train.shape[1])\n",
        "    theta = np.insert(self.coef_,0,self.intercept_) # In coef array at intercept value at position 0\n",
        "\n",
        "    X_train = np.insert(X_train,0,1,axis=1) # Adding 1 has first value of X_train (required)\n",
        "\n",
        "    # Using Batch GD for each epoch finding derivation of theta and then inserting it to GD formula\n",
        "    for i in range(self.epochs):\n",
        "      theta_der = np.dot(X_train.T,X_train).dot(theta) - np.dot(X_train.T,y_train) + self.alpha*theta\n",
        "      theta = theta - self.learning_rate * theta_der\n",
        "\n",
        "    self.intercept_ = theta[0]\n",
        "    self.coef_ = theta[1:]\n",
        "\n",
        "  def predict(self,X_test):\n",
        "    return np.dot(X_test,self.coef_) + self.intercept_"
      ],
      "metadata": {
        "id": "eF2T9Zbxu6im"
      },
      "execution_count": 46,
      "outputs": []
    },
    {
      "cell_type": "code",
      "source": [
        "mr = MyGDRidge(learning_rate=0.005,alpha=0.001,epochs=500)\n",
        "mr.fit(X_train,y_train)\n",
        "y_predict = mr.predict(X_test)\n",
        "\n",
        "print(mr.coef_)\n",
        "print(mr.intercept_)\n",
        "print(r2_score(y_test,y_predict))"
      ],
      "metadata": {
        "colab": {
          "base_uri": "https://localhost:8080/"
        },
        "id": "euNMZuwIx5AE",
        "outputId": "6d2161d1-8ca5-4a83-d820-d51da0918123"
      },
      "execution_count": 50,
      "outputs": [
        {
          "output_type": "stream",
          "name": "stdout",
          "text": [
            "[  19.50919039 -162.92602513  478.95477998  317.86376108  -34.07709121\n",
            " -108.63608801 -193.66871805  106.94769192  437.10746813  103.57606041] 152.03121813717044\n",
            "[  19.50919039 -162.92602513  478.95477998  317.86376108  -34.07709121\n",
            " -108.63608801 -193.66871805  106.94769192  437.10746813  103.57606041]\n",
            "152.03121813717044\n",
            "0.45395431712097367\n"
          ]
        }
      ]
    },
    {
      "cell_type": "code",
      "source": [],
      "metadata": {
        "id": "Il6ZtM7zyIqj"
      },
      "execution_count": 44,
      "outputs": []
    }
  ]
}