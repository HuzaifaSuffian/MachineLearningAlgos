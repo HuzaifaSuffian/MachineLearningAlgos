{
  "nbformat": 4,
  "nbformat_minor": 0,
  "metadata": {
    "colab": {
      "provenance": []
    },
    "kernelspec": {
      "name": "python3",
      "display_name": "Python 3"
    },
    "language_info": {
      "name": "python"
    }
  },
  "cells": [
    {
      "cell_type": "code",
      "execution_count": 35,
      "metadata": {
        "id": "RFjeB0RWt4z6"
      },
      "outputs": [],
      "source": [
        "# Importing the libraries\n",
        "from sklearn.datasets import load_diabetes\n",
        "\n",
        "import numpy as np\n",
        "import pandas as pd\n",
        "\n",
        "from sklearn.linear_model import Ridge\n",
        "from sklearn.model_selection import train_test_split\n",
        "from sklearn.metrics import r2_score"
      ]
    },
    {
      "cell_type": "code",
      "source": [
        "data = load_diabetes()"
      ],
      "metadata": {
        "id": "RtAF23ItugeP"
      },
      "execution_count": 36,
      "outputs": []
    },
    {
      "cell_type": "code",
      "source": [
        "X = data.data\n",
        "y = data.target"
      ],
      "metadata": {
        "id": "DjHeY8OrukiM"
      },
      "execution_count": 37,
      "outputs": []
    },
    {
      "cell_type": "code",
      "source": [
        "X_train,X_test,y_train,y_test = train_test_split(X,y, test_size = 0.2, random_state=2)"
      ],
      "metadata": {
        "id": "Pq2LmxPMunud"
      },
      "execution_count": 38,
      "outputs": []
    },
    {
      "cell_type": "code",
      "source": [
        "reg = Ridge(alpha=0.1,solver='cholesky')"
      ],
      "metadata": {
        "id": "T84KhC8juxZr"
      },
      "execution_count": 39,
      "outputs": []
    },
    {
      "cell_type": "code",
      "source": [
        "reg.fit(X_train,y_train)\n",
        "y_pred = reg.predict(X_test)"
      ],
      "metadata": {
        "id": "aRAA5f4NvM4g"
      },
      "execution_count": 40,
      "outputs": []
    },
    {
      "cell_type": "code",
      "source": [
        "# Checking model performance\n",
        "print(reg.coef_)\n",
        "print(reg.intercept_)\n",
        "print(r2_score(y_test,y_pred))"
      ],
      "metadata": {
        "colab": {
          "base_uri": "https://localhost:8080/"
        },
        "id": "byo5DmrYvPd7",
        "outputId": "d4738338-242a-41c1-e88b-54e2f597e216"
      },
      "execution_count": 41,
      "outputs": [
        {
          "output_type": "stream",
          "name": "stdout",
          "text": [
            "[   6.64373321 -172.23747375  485.52958514  314.67584612  -72.94020918\n",
            "  -80.58868817 -174.46352722   83.61470987  484.36531622   73.58509056]\n",
            "151.92546856900984\n",
            "0.45199494197195456\n"
          ]
        }
      ]
    },
    {
      "cell_type": "code",
      "source": [
        "# Creating our own Ridge class for n-dimensional dataset\n",
        "class myRidge:\n",
        "\n",
        "  def __init__(self,alpha=0.1):\n",
        "    self.alpha = alpha\n",
        "    self.coef_ = None\n",
        "    self.intercept_ = None\n",
        "\n",
        "  def fit(self,X_train,y_train):\n",
        "    # Setting Initial values for coef_ and intercept_\n",
        "    self.intercept_ = 0\n",
        "    self.coef_ = np.ones(X_train.shape[1])\n",
        "\n",
        "    # Inserting 1 as first value of every row because of formula\n",
        "    X_train = np.insert(X_train,0,1,axis=1)\n",
        "    I = np.identity(X_train.shape[1])\n",
        "    I[0][0] = 0   # Because the sklearn class doesn't want to apply it to intercept value\n",
        "\n",
        "    betas = np.linalg.inverse(np.dot(X_train.T,X_train) + (self.alpha*I)).dot(X_train.T).dot(y_train)\n",
        "    self.intercept_ = betas[0]\n",
        "    self.coef_ = betas[1:]\n",
        "\n",
        "\n",
        "  def predict(self,X_test):\n",
        "      y_pred = np.dot(X_test,self.coef_) + self.intercept_\n",
        "      return y_pred\n"
      ],
      "metadata": {
        "id": "_C-aAZfHvTzb"
      },
      "execution_count": 42,
      "outputs": []
    },
    {
      "cell_type": "code",
      "source": [
        "mr = Ridge()\n",
        "mr.fit(X_train,y_train)\n",
        "print(mr.coef_)\n",
        "print(mr.intercept_)\n",
        "y_pred = mr.predict(X_test)\n",
        "print(r2_score(y_test,y_pred))"
      ],
      "metadata": {
        "colab": {
          "base_uri": "https://localhost:8080/"
        },
        "id": "l2I17oAPwh-R",
        "outputId": "972b926a-6e0f-4791-9e46-67010f57cd45"
      },
      "execution_count": 43,
      "outputs": [
        {
          "output_type": "stream",
          "name": "stdout",
          "text": [
            "[  42.24252786  -57.30448273  282.1721254   198.0593951    14.36373444\n",
            "  -22.55107873 -136.92968398  102.02306937  260.10429387   98.55269201]\n",
            "151.75788541423188\n",
            "0.4078252224517157\n"
          ]
        }
      ]
    },
    {
      "cell_type": "code",
      "source": [],
      "metadata": {
        "id": "TAccNXe1wl08"
      },
      "execution_count": 43,
      "outputs": []
    }
  ]
}