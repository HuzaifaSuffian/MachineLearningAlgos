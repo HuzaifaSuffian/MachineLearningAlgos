{
  "nbformat": 4,
  "nbformat_minor": 0,
  "metadata": {
    "colab": {
      "provenance": []
    },
    "kernelspec": {
      "name": "python3",
      "display_name": "Python 3"
    },
    "language_info": {
      "name": "python"
    }
  },
  "cells": [
    {
      "cell_type": "code",
      "execution_count": null,
      "metadata": {
        "id": "MUJ4W24IL216"
      },
      "outputs": [],
      "source": [
        "import numpy as np\n",
        "import pandas as pd\n",
        "from sklearn.datasets import load_diabetes"
      ]
    },
    {
      "cell_type": "code",
      "source": [
        "X,y = load_diabetes(return_X_y=True)"
      ],
      "metadata": {
        "id": "0LIL9aXPR3pV"
      },
      "execution_count": null,
      "outputs": []
    },
    {
      "cell_type": "code",
      "source": [
        "X"
      ],
      "metadata": {
        "colab": {
          "base_uri": "https://localhost:8080/"
        },
        "id": "H62IVDk5R3vL",
        "outputId": "7ea6f42e-4b4b-4b81-8fc0-4598be06d109"
      },
      "execution_count": null,
      "outputs": [
        {
          "output_type": "execute_result",
          "data": {
            "text/plain": [
              "array([[ 0.03807591,  0.05068012,  0.06169621, ..., -0.00259226,\n",
              "         0.01990749, -0.01764613],\n",
              "       [-0.00188202, -0.04464164, -0.05147406, ..., -0.03949338,\n",
              "        -0.06833155, -0.09220405],\n",
              "       [ 0.08529891,  0.05068012,  0.04445121, ..., -0.00259226,\n",
              "         0.00286131, -0.02593034],\n",
              "       ...,\n",
              "       [ 0.04170844,  0.05068012, -0.01590626, ..., -0.01107952,\n",
              "        -0.04688253,  0.01549073],\n",
              "       [-0.04547248, -0.04464164,  0.03906215, ...,  0.02655962,\n",
              "         0.04452873, -0.02593034],\n",
              "       [-0.04547248, -0.04464164, -0.0730303 , ..., -0.03949338,\n",
              "        -0.00422151,  0.00306441]])"
            ]
          },
          "metadata": {},
          "execution_count": 3
        }
      ]
    },
    {
      "cell_type": "code",
      "source": [
        "y"
      ],
      "metadata": {
        "colab": {
          "base_uri": "https://localhost:8080/"
        },
        "id": "Ki8U59teR3yx",
        "outputId": "657dcbc7-36bf-4bb5-f4ef-b1337341363f"
      },
      "execution_count": null,
      "outputs": [
        {
          "output_type": "execute_result",
          "data": {
            "text/plain": [
              "array([151.,  75., 141., 206., 135.,  97., 138.,  63., 110., 310., 101.,\n",
              "        69., 179., 185., 118., 171., 166., 144.,  97., 168.,  68.,  49.,\n",
              "        68., 245., 184., 202., 137.,  85., 131., 283., 129.,  59., 341.,\n",
              "        87.,  65., 102., 265., 276., 252.,  90., 100.,  55.,  61.,  92.,\n",
              "       259.,  53., 190., 142.,  75., 142., 155., 225.,  59., 104., 182.,\n",
              "       128.,  52.,  37., 170., 170.,  61., 144.,  52., 128.,  71., 163.,\n",
              "       150.,  97., 160., 178.,  48., 270., 202., 111.,  85.,  42., 170.,\n",
              "       200., 252., 113., 143.,  51.,  52., 210.,  65., 141.,  55., 134.,\n",
              "        42., 111.,  98., 164.,  48.,  96.,  90., 162., 150., 279.,  92.,\n",
              "        83., 128., 102., 302., 198.,  95.,  53., 134., 144., 232.,  81.,\n",
              "       104.,  59., 246., 297., 258., 229., 275., 281., 179., 200., 200.,\n",
              "       173., 180.,  84., 121., 161.,  99., 109., 115., 268., 274., 158.,\n",
              "       107.,  83., 103., 272.,  85., 280., 336., 281., 118., 317., 235.,\n",
              "        60., 174., 259., 178., 128.,  96., 126., 288.,  88., 292.,  71.,\n",
              "       197., 186.,  25.,  84.,  96., 195.,  53., 217., 172., 131., 214.,\n",
              "        59.,  70., 220., 268., 152.,  47.,  74., 295., 101., 151., 127.,\n",
              "       237., 225.,  81., 151., 107.,  64., 138., 185., 265., 101., 137.,\n",
              "       143., 141.,  79., 292., 178.,  91., 116.,  86., 122.,  72., 129.,\n",
              "       142.,  90., 158.,  39., 196., 222., 277.,  99., 196., 202., 155.,\n",
              "        77., 191.,  70.,  73.,  49.,  65., 263., 248., 296., 214., 185.,\n",
              "        78.,  93., 252., 150.,  77., 208.,  77., 108., 160.,  53., 220.,\n",
              "       154., 259.,  90., 246., 124.,  67.,  72., 257., 262., 275., 177.,\n",
              "        71.,  47., 187., 125.,  78.,  51., 258., 215., 303., 243.,  91.,\n",
              "       150., 310., 153., 346.,  63.,  89.,  50.,  39., 103., 308., 116.,\n",
              "       145.,  74.,  45., 115., 264.,  87., 202., 127., 182., 241.,  66.,\n",
              "        94., 283.,  64., 102., 200., 265.,  94., 230., 181., 156., 233.,\n",
              "        60., 219.,  80.,  68., 332., 248.,  84., 200.,  55.,  85.,  89.,\n",
              "        31., 129.,  83., 275.,  65., 198., 236., 253., 124.,  44., 172.,\n",
              "       114., 142., 109., 180., 144., 163., 147.,  97., 220., 190., 109.,\n",
              "       191., 122., 230., 242., 248., 249., 192., 131., 237.,  78., 135.,\n",
              "       244., 199., 270., 164.,  72.,  96., 306.,  91., 214.,  95., 216.,\n",
              "       263., 178., 113., 200., 139., 139.,  88., 148.,  88., 243.,  71.,\n",
              "        77., 109., 272.,  60.,  54., 221.,  90., 311., 281., 182., 321.,\n",
              "        58., 262., 206., 233., 242., 123., 167.,  63., 197.,  71., 168.,\n",
              "       140., 217., 121., 235., 245.,  40.,  52., 104., 132.,  88.,  69.,\n",
              "       219.,  72., 201., 110.,  51., 277.,  63., 118.,  69., 273., 258.,\n",
              "        43., 198., 242., 232., 175.,  93., 168., 275., 293., 281.,  72.,\n",
              "       140., 189., 181., 209., 136., 261., 113., 131., 174., 257.,  55.,\n",
              "        84.,  42., 146., 212., 233.,  91., 111., 152., 120.,  67., 310.,\n",
              "        94., 183.,  66., 173.,  72.,  49.,  64.,  48., 178., 104., 132.,\n",
              "       220.,  57.])"
            ]
          },
          "metadata": {},
          "execution_count": 4
        }
      ]
    },
    {
      "cell_type": "markdown",
      "source": [
        "# Using Sklearn's Linear Regression"
      ],
      "metadata": {
        "id": "FMB2xaqtSLXo"
      }
    },
    {
      "cell_type": "code",
      "source": [
        "from sklearn.model_selection import train_test_split\n",
        "X_train,X_test,y_train,y_test = train_test_split(X,y,test_size=0.2,random_state=2)"
      ],
      "metadata": {
        "id": "gTPeRNEkR32Q"
      },
      "execution_count": null,
      "outputs": []
    },
    {
      "cell_type": "code",
      "source": [
        "print(X_train.shape)\n",
        "print(X_test.shape)"
      ],
      "metadata": {
        "colab": {
          "base_uri": "https://localhost:8080/"
        },
        "id": "VQlcSjz3R35u",
        "outputId": "395ec235-86a4-4864-aa7a-43b28b5aaaa0"
      },
      "execution_count": null,
      "outputs": [
        {
          "output_type": "stream",
          "name": "stdout",
          "text": [
            "(353, 10)\n",
            "(89, 10)\n"
          ]
        }
      ]
    },
    {
      "cell_type": "code",
      "source": [
        "from sklearn.linear_model import LinearRegression"
      ],
      "metadata": {
        "id": "yK2jzBS9R39h"
      },
      "execution_count": null,
      "outputs": []
    },
    {
      "cell_type": "code",
      "source": [
        "reg = LinearRegression()"
      ],
      "metadata": {
        "id": "pvvuyr-HR4Fc"
      },
      "execution_count": null,
      "outputs": []
    },
    {
      "cell_type": "code",
      "source": [
        "reg.fit(X_train,y_train)"
      ],
      "metadata": {
        "colab": {
          "base_uri": "https://localhost:8080/",
          "height": 80
        },
        "id": "4tPBfJrLR4IX",
        "outputId": "768ce11d-6697-453d-d5d8-1adf857e43c4"
      },
      "execution_count": null,
      "outputs": [
        {
          "output_type": "execute_result",
          "data": {
            "text/plain": [
              "LinearRegression()"
            ],
            "text/html": [
              "<style>#sk-container-id-1 {\n",
              "  /* Definition of color scheme common for light and dark mode */\n",
              "  --sklearn-color-text: #000;\n",
              "  --sklearn-color-text-muted: #666;\n",
              "  --sklearn-color-line: gray;\n",
              "  /* Definition of color scheme for unfitted estimators */\n",
              "  --sklearn-color-unfitted-level-0: #fff5e6;\n",
              "  --sklearn-color-unfitted-level-1: #f6e4d2;\n",
              "  --sklearn-color-unfitted-level-2: #ffe0b3;\n",
              "  --sklearn-color-unfitted-level-3: chocolate;\n",
              "  /* Definition of color scheme for fitted estimators */\n",
              "  --sklearn-color-fitted-level-0: #f0f8ff;\n",
              "  --sklearn-color-fitted-level-1: #d4ebff;\n",
              "  --sklearn-color-fitted-level-2: #b3dbfd;\n",
              "  --sklearn-color-fitted-level-3: cornflowerblue;\n",
              "\n",
              "  /* Specific color for light theme */\n",
              "  --sklearn-color-text-on-default-background: var(--sg-text-color, var(--theme-code-foreground, var(--jp-content-font-color1, black)));\n",
              "  --sklearn-color-background: var(--sg-background-color, var(--theme-background, var(--jp-layout-color0, white)));\n",
              "  --sklearn-color-border-box: var(--sg-text-color, var(--theme-code-foreground, var(--jp-content-font-color1, black)));\n",
              "  --sklearn-color-icon: #696969;\n",
              "\n",
              "  @media (prefers-color-scheme: dark) {\n",
              "    /* Redefinition of color scheme for dark theme */\n",
              "    --sklearn-color-text-on-default-background: var(--sg-text-color, var(--theme-code-foreground, var(--jp-content-font-color1, white)));\n",
              "    --sklearn-color-background: var(--sg-background-color, var(--theme-background, var(--jp-layout-color0, #111)));\n",
              "    --sklearn-color-border-box: var(--sg-text-color, var(--theme-code-foreground, var(--jp-content-font-color1, white)));\n",
              "    --sklearn-color-icon: #878787;\n",
              "  }\n",
              "}\n",
              "\n",
              "#sk-container-id-1 {\n",
              "  color: var(--sklearn-color-text);\n",
              "}\n",
              "\n",
              "#sk-container-id-1 pre {\n",
              "  padding: 0;\n",
              "}\n",
              "\n",
              "#sk-container-id-1 input.sk-hidden--visually {\n",
              "  border: 0;\n",
              "  clip: rect(1px 1px 1px 1px);\n",
              "  clip: rect(1px, 1px, 1px, 1px);\n",
              "  height: 1px;\n",
              "  margin: -1px;\n",
              "  overflow: hidden;\n",
              "  padding: 0;\n",
              "  position: absolute;\n",
              "  width: 1px;\n",
              "}\n",
              "\n",
              "#sk-container-id-1 div.sk-dashed-wrapped {\n",
              "  border: 1px dashed var(--sklearn-color-line);\n",
              "  margin: 0 0.4em 0.5em 0.4em;\n",
              "  box-sizing: border-box;\n",
              "  padding-bottom: 0.4em;\n",
              "  background-color: var(--sklearn-color-background);\n",
              "}\n",
              "\n",
              "#sk-container-id-1 div.sk-container {\n",
              "  /* jupyter's `normalize.less` sets `[hidden] { display: none; }`\n",
              "     but bootstrap.min.css set `[hidden] { display: none !important; }`\n",
              "     so we also need the `!important` here to be able to override the\n",
              "     default hidden behavior on the sphinx rendered scikit-learn.org.\n",
              "     See: https://github.com/scikit-learn/scikit-learn/issues/21755 */\n",
              "  display: inline-block !important;\n",
              "  position: relative;\n",
              "}\n",
              "\n",
              "#sk-container-id-1 div.sk-text-repr-fallback {\n",
              "  display: none;\n",
              "}\n",
              "\n",
              "div.sk-parallel-item,\n",
              "div.sk-serial,\n",
              "div.sk-item {\n",
              "  /* draw centered vertical line to link estimators */\n",
              "  background-image: linear-gradient(var(--sklearn-color-text-on-default-background), var(--sklearn-color-text-on-default-background));\n",
              "  background-size: 2px 100%;\n",
              "  background-repeat: no-repeat;\n",
              "  background-position: center center;\n",
              "}\n",
              "\n",
              "/* Parallel-specific style estimator block */\n",
              "\n",
              "#sk-container-id-1 div.sk-parallel-item::after {\n",
              "  content: \"\";\n",
              "  width: 100%;\n",
              "  border-bottom: 2px solid var(--sklearn-color-text-on-default-background);\n",
              "  flex-grow: 1;\n",
              "}\n",
              "\n",
              "#sk-container-id-1 div.sk-parallel {\n",
              "  display: flex;\n",
              "  align-items: stretch;\n",
              "  justify-content: center;\n",
              "  background-color: var(--sklearn-color-background);\n",
              "  position: relative;\n",
              "}\n",
              "\n",
              "#sk-container-id-1 div.sk-parallel-item {\n",
              "  display: flex;\n",
              "  flex-direction: column;\n",
              "}\n",
              "\n",
              "#sk-container-id-1 div.sk-parallel-item:first-child::after {\n",
              "  align-self: flex-end;\n",
              "  width: 50%;\n",
              "}\n",
              "\n",
              "#sk-container-id-1 div.sk-parallel-item:last-child::after {\n",
              "  align-self: flex-start;\n",
              "  width: 50%;\n",
              "}\n",
              "\n",
              "#sk-container-id-1 div.sk-parallel-item:only-child::after {\n",
              "  width: 0;\n",
              "}\n",
              "\n",
              "/* Serial-specific style estimator block */\n",
              "\n",
              "#sk-container-id-1 div.sk-serial {\n",
              "  display: flex;\n",
              "  flex-direction: column;\n",
              "  align-items: center;\n",
              "  background-color: var(--sklearn-color-background);\n",
              "  padding-right: 1em;\n",
              "  padding-left: 1em;\n",
              "}\n",
              "\n",
              "\n",
              "/* Toggleable style: style used for estimator/Pipeline/ColumnTransformer box that is\n",
              "clickable and can be expanded/collapsed.\n",
              "- Pipeline and ColumnTransformer use this feature and define the default style\n",
              "- Estimators will overwrite some part of the style using the `sk-estimator` class\n",
              "*/\n",
              "\n",
              "/* Pipeline and ColumnTransformer style (default) */\n",
              "\n",
              "#sk-container-id-1 div.sk-toggleable {\n",
              "  /* Default theme specific background. It is overwritten whether we have a\n",
              "  specific estimator or a Pipeline/ColumnTransformer */\n",
              "  background-color: var(--sklearn-color-background);\n",
              "}\n",
              "\n",
              "/* Toggleable label */\n",
              "#sk-container-id-1 label.sk-toggleable__label {\n",
              "  cursor: pointer;\n",
              "  display: flex;\n",
              "  width: 100%;\n",
              "  margin-bottom: 0;\n",
              "  padding: 0.5em;\n",
              "  box-sizing: border-box;\n",
              "  text-align: center;\n",
              "  align-items: start;\n",
              "  justify-content: space-between;\n",
              "  gap: 0.5em;\n",
              "}\n",
              "\n",
              "#sk-container-id-1 label.sk-toggleable__label .caption {\n",
              "  font-size: 0.6rem;\n",
              "  font-weight: lighter;\n",
              "  color: var(--sklearn-color-text-muted);\n",
              "}\n",
              "\n",
              "#sk-container-id-1 label.sk-toggleable__label-arrow:before {\n",
              "  /* Arrow on the left of the label */\n",
              "  content: \"▸\";\n",
              "  float: left;\n",
              "  margin-right: 0.25em;\n",
              "  color: var(--sklearn-color-icon);\n",
              "}\n",
              "\n",
              "#sk-container-id-1 label.sk-toggleable__label-arrow:hover:before {\n",
              "  color: var(--sklearn-color-text);\n",
              "}\n",
              "\n",
              "/* Toggleable content - dropdown */\n",
              "\n",
              "#sk-container-id-1 div.sk-toggleable__content {\n",
              "  max-height: 0;\n",
              "  max-width: 0;\n",
              "  overflow: hidden;\n",
              "  text-align: left;\n",
              "  /* unfitted */\n",
              "  background-color: var(--sklearn-color-unfitted-level-0);\n",
              "}\n",
              "\n",
              "#sk-container-id-1 div.sk-toggleable__content.fitted {\n",
              "  /* fitted */\n",
              "  background-color: var(--sklearn-color-fitted-level-0);\n",
              "}\n",
              "\n",
              "#sk-container-id-1 div.sk-toggleable__content pre {\n",
              "  margin: 0.2em;\n",
              "  border-radius: 0.25em;\n",
              "  color: var(--sklearn-color-text);\n",
              "  /* unfitted */\n",
              "  background-color: var(--sklearn-color-unfitted-level-0);\n",
              "}\n",
              "\n",
              "#sk-container-id-1 div.sk-toggleable__content.fitted pre {\n",
              "  /* unfitted */\n",
              "  background-color: var(--sklearn-color-fitted-level-0);\n",
              "}\n",
              "\n",
              "#sk-container-id-1 input.sk-toggleable__control:checked~div.sk-toggleable__content {\n",
              "  /* Expand drop-down */\n",
              "  max-height: 200px;\n",
              "  max-width: 100%;\n",
              "  overflow: auto;\n",
              "}\n",
              "\n",
              "#sk-container-id-1 input.sk-toggleable__control:checked~label.sk-toggleable__label-arrow:before {\n",
              "  content: \"▾\";\n",
              "}\n",
              "\n",
              "/* Pipeline/ColumnTransformer-specific style */\n",
              "\n",
              "#sk-container-id-1 div.sk-label input.sk-toggleable__control:checked~label.sk-toggleable__label {\n",
              "  color: var(--sklearn-color-text);\n",
              "  background-color: var(--sklearn-color-unfitted-level-2);\n",
              "}\n",
              "\n",
              "#sk-container-id-1 div.sk-label.fitted input.sk-toggleable__control:checked~label.sk-toggleable__label {\n",
              "  background-color: var(--sklearn-color-fitted-level-2);\n",
              "}\n",
              "\n",
              "/* Estimator-specific style */\n",
              "\n",
              "/* Colorize estimator box */\n",
              "#sk-container-id-1 div.sk-estimator input.sk-toggleable__control:checked~label.sk-toggleable__label {\n",
              "  /* unfitted */\n",
              "  background-color: var(--sklearn-color-unfitted-level-2);\n",
              "}\n",
              "\n",
              "#sk-container-id-1 div.sk-estimator.fitted input.sk-toggleable__control:checked~label.sk-toggleable__label {\n",
              "  /* fitted */\n",
              "  background-color: var(--sklearn-color-fitted-level-2);\n",
              "}\n",
              "\n",
              "#sk-container-id-1 div.sk-label label.sk-toggleable__label,\n",
              "#sk-container-id-1 div.sk-label label {\n",
              "  /* The background is the default theme color */\n",
              "  color: var(--sklearn-color-text-on-default-background);\n",
              "}\n",
              "\n",
              "/* On hover, darken the color of the background */\n",
              "#sk-container-id-1 div.sk-label:hover label.sk-toggleable__label {\n",
              "  color: var(--sklearn-color-text);\n",
              "  background-color: var(--sklearn-color-unfitted-level-2);\n",
              "}\n",
              "\n",
              "/* Label box, darken color on hover, fitted */\n",
              "#sk-container-id-1 div.sk-label.fitted:hover label.sk-toggleable__label.fitted {\n",
              "  color: var(--sklearn-color-text);\n",
              "  background-color: var(--sklearn-color-fitted-level-2);\n",
              "}\n",
              "\n",
              "/* Estimator label */\n",
              "\n",
              "#sk-container-id-1 div.sk-label label {\n",
              "  font-family: monospace;\n",
              "  font-weight: bold;\n",
              "  display: inline-block;\n",
              "  line-height: 1.2em;\n",
              "}\n",
              "\n",
              "#sk-container-id-1 div.sk-label-container {\n",
              "  text-align: center;\n",
              "}\n",
              "\n",
              "/* Estimator-specific */\n",
              "#sk-container-id-1 div.sk-estimator {\n",
              "  font-family: monospace;\n",
              "  border: 1px dotted var(--sklearn-color-border-box);\n",
              "  border-radius: 0.25em;\n",
              "  box-sizing: border-box;\n",
              "  margin-bottom: 0.5em;\n",
              "  /* unfitted */\n",
              "  background-color: var(--sklearn-color-unfitted-level-0);\n",
              "}\n",
              "\n",
              "#sk-container-id-1 div.sk-estimator.fitted {\n",
              "  /* fitted */\n",
              "  background-color: var(--sklearn-color-fitted-level-0);\n",
              "}\n",
              "\n",
              "/* on hover */\n",
              "#sk-container-id-1 div.sk-estimator:hover {\n",
              "  /* unfitted */\n",
              "  background-color: var(--sklearn-color-unfitted-level-2);\n",
              "}\n",
              "\n",
              "#sk-container-id-1 div.sk-estimator.fitted:hover {\n",
              "  /* fitted */\n",
              "  background-color: var(--sklearn-color-fitted-level-2);\n",
              "}\n",
              "\n",
              "/* Specification for estimator info (e.g. \"i\" and \"?\") */\n",
              "\n",
              "/* Common style for \"i\" and \"?\" */\n",
              "\n",
              ".sk-estimator-doc-link,\n",
              "a:link.sk-estimator-doc-link,\n",
              "a:visited.sk-estimator-doc-link {\n",
              "  float: right;\n",
              "  font-size: smaller;\n",
              "  line-height: 1em;\n",
              "  font-family: monospace;\n",
              "  background-color: var(--sklearn-color-background);\n",
              "  border-radius: 1em;\n",
              "  height: 1em;\n",
              "  width: 1em;\n",
              "  text-decoration: none !important;\n",
              "  margin-left: 0.5em;\n",
              "  text-align: center;\n",
              "  /* unfitted */\n",
              "  border: var(--sklearn-color-unfitted-level-1) 1pt solid;\n",
              "  color: var(--sklearn-color-unfitted-level-1);\n",
              "}\n",
              "\n",
              ".sk-estimator-doc-link.fitted,\n",
              "a:link.sk-estimator-doc-link.fitted,\n",
              "a:visited.sk-estimator-doc-link.fitted {\n",
              "  /* fitted */\n",
              "  border: var(--sklearn-color-fitted-level-1) 1pt solid;\n",
              "  color: var(--sklearn-color-fitted-level-1);\n",
              "}\n",
              "\n",
              "/* On hover */\n",
              "div.sk-estimator:hover .sk-estimator-doc-link:hover,\n",
              ".sk-estimator-doc-link:hover,\n",
              "div.sk-label-container:hover .sk-estimator-doc-link:hover,\n",
              ".sk-estimator-doc-link:hover {\n",
              "  /* unfitted */\n",
              "  background-color: var(--sklearn-color-unfitted-level-3);\n",
              "  color: var(--sklearn-color-background);\n",
              "  text-decoration: none;\n",
              "}\n",
              "\n",
              "div.sk-estimator.fitted:hover .sk-estimator-doc-link.fitted:hover,\n",
              ".sk-estimator-doc-link.fitted:hover,\n",
              "div.sk-label-container:hover .sk-estimator-doc-link.fitted:hover,\n",
              ".sk-estimator-doc-link.fitted:hover {\n",
              "  /* fitted */\n",
              "  background-color: var(--sklearn-color-fitted-level-3);\n",
              "  color: var(--sklearn-color-background);\n",
              "  text-decoration: none;\n",
              "}\n",
              "\n",
              "/* Span, style for the box shown on hovering the info icon */\n",
              ".sk-estimator-doc-link span {\n",
              "  display: none;\n",
              "  z-index: 9999;\n",
              "  position: relative;\n",
              "  font-weight: normal;\n",
              "  right: .2ex;\n",
              "  padding: .5ex;\n",
              "  margin: .5ex;\n",
              "  width: min-content;\n",
              "  min-width: 20ex;\n",
              "  max-width: 50ex;\n",
              "  color: var(--sklearn-color-text);\n",
              "  box-shadow: 2pt 2pt 4pt #999;\n",
              "  /* unfitted */\n",
              "  background: var(--sklearn-color-unfitted-level-0);\n",
              "  border: .5pt solid var(--sklearn-color-unfitted-level-3);\n",
              "}\n",
              "\n",
              ".sk-estimator-doc-link.fitted span {\n",
              "  /* fitted */\n",
              "  background: var(--sklearn-color-fitted-level-0);\n",
              "  border: var(--sklearn-color-fitted-level-3);\n",
              "}\n",
              "\n",
              ".sk-estimator-doc-link:hover span {\n",
              "  display: block;\n",
              "}\n",
              "\n",
              "/* \"?\"-specific style due to the `<a>` HTML tag */\n",
              "\n",
              "#sk-container-id-1 a.estimator_doc_link {\n",
              "  float: right;\n",
              "  font-size: 1rem;\n",
              "  line-height: 1em;\n",
              "  font-family: monospace;\n",
              "  background-color: var(--sklearn-color-background);\n",
              "  border-radius: 1rem;\n",
              "  height: 1rem;\n",
              "  width: 1rem;\n",
              "  text-decoration: none;\n",
              "  /* unfitted */\n",
              "  color: var(--sklearn-color-unfitted-level-1);\n",
              "  border: var(--sklearn-color-unfitted-level-1) 1pt solid;\n",
              "}\n",
              "\n",
              "#sk-container-id-1 a.estimator_doc_link.fitted {\n",
              "  /* fitted */\n",
              "  border: var(--sklearn-color-fitted-level-1) 1pt solid;\n",
              "  color: var(--sklearn-color-fitted-level-1);\n",
              "}\n",
              "\n",
              "/* On hover */\n",
              "#sk-container-id-1 a.estimator_doc_link:hover {\n",
              "  /* unfitted */\n",
              "  background-color: var(--sklearn-color-unfitted-level-3);\n",
              "  color: var(--sklearn-color-background);\n",
              "  text-decoration: none;\n",
              "}\n",
              "\n",
              "#sk-container-id-1 a.estimator_doc_link.fitted:hover {\n",
              "  /* fitted */\n",
              "  background-color: var(--sklearn-color-fitted-level-3);\n",
              "}\n",
              "</style><div id=\"sk-container-id-1\" class=\"sk-top-container\"><div class=\"sk-text-repr-fallback\"><pre>LinearRegression()</pre><b>In a Jupyter environment, please rerun this cell to show the HTML representation or trust the notebook. <br />On GitHub, the HTML representation is unable to render, please try loading this page with nbviewer.org.</b></div><div class=\"sk-container\" hidden><div class=\"sk-item\"><div class=\"sk-estimator fitted sk-toggleable\"><input class=\"sk-toggleable__control sk-hidden--visually\" id=\"sk-estimator-id-1\" type=\"checkbox\" checked><label for=\"sk-estimator-id-1\" class=\"sk-toggleable__label fitted sk-toggleable__label-arrow\"><div><div>LinearRegression</div></div><div><a class=\"sk-estimator-doc-link fitted\" rel=\"noreferrer\" target=\"_blank\" href=\"https://scikit-learn.org/1.6/modules/generated/sklearn.linear_model.LinearRegression.html\">?<span>Documentation for LinearRegression</span></a><span class=\"sk-estimator-doc-link fitted\">i<span>Fitted</span></span></div></label><div class=\"sk-toggleable__content fitted\"><pre>LinearRegression()</pre></div> </div></div></div></div>"
            ]
          },
          "metadata": {},
          "execution_count": 9
        }
      ]
    },
    {
      "cell_type": "code",
      "source": [
        "y_pred = reg.predict(X_test)"
      ],
      "metadata": {
        "id": "0Z4wooM6R4Lc"
      },
      "execution_count": null,
      "outputs": []
    },
    {
      "cell_type": "code",
      "source": [
        "from sklearn.metrics import r2_score"
      ],
      "metadata": {
        "id": "Y6dqSzQyR4O4"
      },
      "execution_count": null,
      "outputs": []
    },
    {
      "cell_type": "code",
      "source": [
        "r2_score(y_test,y_pred)"
      ],
      "metadata": {
        "colab": {
          "base_uri": "https://localhost:8080/"
        },
        "id": "ehJMhBq6R4SF",
        "outputId": "6431aa6a-c9cd-4113-9ddd-784b4740c22a"
      },
      "execution_count": null,
      "outputs": [
        {
          "output_type": "execute_result",
          "data": {
            "text/plain": [
              "0.4399338661568968"
            ]
          },
          "metadata": {},
          "execution_count": 12
        }
      ]
    },
    {
      "cell_type": "code",
      "source": [
        "reg.coef_"
      ],
      "metadata": {
        "colab": {
          "base_uri": "https://localhost:8080/"
        },
        "id": "YJyexLZ9R4V4",
        "outputId": "22f71f8b-4d94-4f51-89a2-eea96a52e2ea"
      },
      "execution_count": null,
      "outputs": [
        {
          "output_type": "execute_result",
          "data": {
            "text/plain": [
              "array([  -9.15865318, -205.45432163,  516.69374454,  340.61999905,\n",
              "       -895.5520019 ,  561.22067904,  153.89310954,  126.73139688,\n",
              "        861.12700152,   52.42112238])"
            ]
          },
          "metadata": {},
          "execution_count": 13
        }
      ]
    },
    {
      "cell_type": "code",
      "source": [
        "reg.intercept_"
      ],
      "metadata": {
        "colab": {
          "base_uri": "https://localhost:8080/"
        },
        "id": "LPzjWnDTR4Zi",
        "outputId": "f7f622a7-f122-4057-8e3d-fd5c78a83008"
      },
      "execution_count": null,
      "outputs": [
        {
          "output_type": "execute_result",
          "data": {
            "text/plain": [
              "151.88331005254167"
            ]
          },
          "metadata": {},
          "execution_count": 14
        }
      ]
    },
    {
      "cell_type": "markdown",
      "source": [
        "# Creating Our Own Multiple Linear Regression Clas"
      ],
      "metadata": {
        "id": "J9vsr6EcTmev"
      }
    },
    {
      "cell_type": "code",
      "source": [
        "class MyLR:\n",
        "\n",
        "    def __init__(self):\n",
        "        self.coef_ = None\n",
        "        self.intercept_ = None\n",
        "\n",
        "    def fit(self,X_train,y_train):\n",
        "        X_train = np.insert(X_train,0,1,axis=1)\n",
        "\n",
        "        # calcuate the coefs\n",
        "        betas = np.linalg.inv(np.dot(X_train.T,X_train)).dot(X_train.T).dot(y_train)\n",
        "        self.intercept_ = betas[0]\n",
        "        self.coef_ = betas[1:]\n",
        "\n",
        "    def predict(self,X_test):\n",
        "        y_pred = np.dot(X_test,self.coef_) + self.intercept_\n",
        "        return y_pred\n",
        "\n"
      ],
      "metadata": {
        "id": "DLnjjsMXR4dX"
      },
      "execution_count": null,
      "outputs": []
    },
    {
      "cell_type": "code",
      "source": [
        "my_mlr = MyLR()"
      ],
      "metadata": {
        "id": "pNsfUdQxR4hB"
      },
      "execution_count": null,
      "outputs": []
    },
    {
      "cell_type": "code",
      "source": [
        "my_mlr.fit(X_train,y_train)"
      ],
      "metadata": {
        "id": "IvTRSTJQUwZ-"
      },
      "execution_count": null,
      "outputs": []
    },
    {
      "cell_type": "code",
      "source": [
        "y_pred = my_mlr.predict(X_test)"
      ],
      "metadata": {
        "id": "wAK_RvaQUwl2"
      },
      "execution_count": null,
      "outputs": []
    },
    {
      "cell_type": "code",
      "source": [
        "X_test"
      ],
      "metadata": {
        "colab": {
          "base_uri": "https://localhost:8080/"
        },
        "collapsed": true,
        "id": "k4nMUEq3Uwpu",
        "outputId": "8cfd6ef3-bcb4-4c25-fe90-a4052f2fd742"
      },
      "execution_count": null,
      "outputs": [
        {
          "output_type": "execute_result",
          "data": {
            "text/plain": [
              "array([[ 0.06713621, -0.04464164,  0.00349435,  0.03564379,  0.0493413 ,\n",
              "         0.03125356,  0.07072993, -0.03949338, -0.00061174,  0.01963284],\n",
              "       [-0.07816532,  0.05068012,  0.07786339,  0.05285804,  0.07823631,\n",
              "         0.0644473 ,  0.02655027, -0.00259226,  0.04067283, -0.00936191],\n",
              "       [ 0.04170844,  0.05068012, -0.01482845, -0.01713512, -0.00569682,\n",
              "         0.00839372, -0.01394774, -0.00185424, -0.01189685,  0.00306441],\n",
              "       [-0.04547248, -0.04464164, -0.04824063, -0.01944183, -0.00019301,\n",
              "        -0.01603186,  0.06704829, -0.03949338, -0.02479543,  0.01963284],\n",
              "       [ 0.0090156 ,  0.05068012,  0.06924089,  0.05974375,  0.01769438,\n",
              "        -0.02323427, -0.04708248,  0.03430886,  0.10329702,  0.07348023],\n",
              "       [ 0.03444337,  0.05068012,  0.12528712,  0.02875809, -0.05385517,\n",
              "        -0.01290037, -0.10230705,  0.1081111 ,  0.00027248,  0.02791705],\n",
              "       [-0.03457486, -0.04464164, -0.05901875,  0.00121528, -0.05385517,\n",
              "        -0.07803525,  0.06704829, -0.0763945 , -0.02139531,  0.01549073],\n",
              "       [-0.04910502, -0.04464164, -0.05686312, -0.04354178, -0.04559945,\n",
              "        -0.04327577,  0.00077881, -0.03949338, -0.01189685,  0.01549073],\n",
              "       [ 0.03081083, -0.04464164, -0.03315126, -0.02288468, -0.0469754 ,\n",
              "        -0.08116674,  0.10386467, -0.0763945 , -0.03980883, -0.05492509],\n",
              "       [-0.03094232,  0.05068012,  0.05954058,  0.00121528,  0.01219057,\n",
              "         0.03156671, -0.04340085,  0.03430886,  0.01482098,  0.00720652],\n",
              "       [-0.00914709,  0.05068012,  0.00133873, -0.00222757,  0.07961226,\n",
              "         0.07008397,  0.03391355, -0.00259226,  0.02671684,  0.08176444],\n",
              "       [ 0.03807591,  0.05068012, -0.01806189,  0.06662945, -0.05110326,\n",
              "        -0.01665815, -0.07653559,  0.03430886, -0.01189685, -0.01350402],\n",
              "       [ 0.0090156 ,  0.05068012,  0.03043966,  0.04252949, -0.00294491,\n",
              "         0.03689023, -0.06549067,  0.07120998, -0.02364686,  0.01549073],\n",
              "       [ 0.05987114, -0.04464164, -0.00081689, -0.08485599,  0.0754844 ,\n",
              "         0.07947843,  0.00446045,  0.03430886,  0.02337142,  0.02791705],\n",
              "       [ 0.02354575, -0.04464164,  0.11019775,  0.0631866 ,  0.01356652,\n",
              "        -0.03294187, -0.02499266,  0.02065544,  0.09924058,  0.02377494],\n",
              "       [ 0.0090156 , -0.04464164, -0.03207344, -0.02632753,  0.04246153,\n",
              "        -0.01039518,  0.15908923, -0.0763945 , -0.01189685, -0.03835666],\n",
              "       [-0.04547248, -0.04464164,  0.03906215,  0.00121528,  0.01631843,\n",
              "         0.01528299, -0.02867429,  0.02655962,  0.04452873, -0.02593034],\n",
              "       [-0.06726771, -0.04464164, -0.05901875,  0.03220094, -0.05110326,\n",
              "        -0.04953874, -0.01026611, -0.03949338,  0.00200444,  0.02377494],\n",
              "       [-0.03457486,  0.05068012, -0.02560657, -0.01713512,  0.00118295,\n",
              "        -0.00287962,  0.00814208, -0.01550765,  0.01482098,  0.04034337],\n",
              "       [ 0.04170844,  0.05068012, -0.01590626,  0.01729339, -0.03734373,\n",
              "        -0.01383982, -0.02499266, -0.01107952, -0.04688253,  0.01549073],\n",
              "       [ 0.00538306, -0.04464164,  0.05846277, -0.04354178, -0.07311851,\n",
              "        -0.07239858,  0.019187  , -0.0763945 , -0.05140387, -0.02593034],\n",
              "       [-0.0382074 ,  0.05068012,  0.07139652, -0.05731319,  0.15391371,\n",
              "         0.15588665,  0.00077881,  0.071948  ,  0.05028067,  0.06933812],\n",
              "       [ 0.0090156 ,  0.05068012, -0.03961813,  0.02875809,  0.03833367,\n",
              "         0.0735286 , -0.07285395,  0.1081111 ,  0.01556846, -0.04664087],\n",
              "       [ 0.04170844,  0.05068012,  0.01211685,  0.03908664,  0.05484511,\n",
              "         0.0444058 ,  0.00446045, -0.00259226,  0.04560437, -0.0010777 ],\n",
              "       [ 0.03081083, -0.04464164, -0.02021751, -0.00567042, -0.00432087,\n",
              "        -0.02949724,  0.0780932 , -0.03949338, -0.01090325, -0.0010777 ],\n",
              "       [-0.02730979, -0.04464164,  0.04768465, -0.04698463,  0.03420581,\n",
              "         0.05724488, -0.08021722,  0.13025177,  0.04506655,  0.13146972],\n",
              "       [ 0.01628068,  0.05068012,  0.07247433,  0.076958  , -0.00844872,\n",
              "         0.00557539, -0.00658447, -0.00259226, -0.02364686,  0.06105391],\n",
              "       [ 0.0090156 , -0.04464164, -0.02452876, -0.02632753,  0.0988756 ,\n",
              "         0.0941964 ,  0.07072993, -0.00259226, -0.02139531,  0.00720652],\n",
              "       [ 0.00175052, -0.04464164, -0.03961813, -0.10093411, -0.02908802,\n",
              "        -0.03012354,  0.04495846, -0.05019471, -0.06833155, -0.12948301],\n",
              "       [-0.04547248,  0.05068012,  0.06385183,  0.0700723 ,  0.13327442,\n",
              "         0.13146107, -0.03971921,  0.1081111 ,  0.07574055,  0.08590655],\n",
              "       [-0.02004471, -0.04464164,  0.08540807, -0.03665608,  0.09199583,\n",
              "         0.08949918, -0.06180903,  0.14501222,  0.08094556,  0.05276969],\n",
              "       [-0.00188202, -0.04464164, -0.06656343,  0.00121528, -0.00294491,\n",
              "         0.0030702 ,  0.01182372, -0.00259226, -0.02029232, -0.02593034],\n",
              "       [-0.09632802, -0.04464164, -0.06979687, -0.06764174, -0.01945635,\n",
              "        -0.01070833,  0.01550536, -0.03949338, -0.04688253, -0.07977773],\n",
              "       [-0.00551455,  0.05068012, -0.03315126, -0.01599898,  0.00806271,\n",
              "         0.01622244,  0.01550536, -0.00259226, -0.02832317, -0.07563562],\n",
              "       [-0.01641217,  0.05068012,  0.00241654,  0.01498668,  0.02182224,\n",
              "        -0.01008203, -0.02499266,  0.03430886,  0.08553071,  0.08176444],\n",
              "       [-0.00551455, -0.04464164,  0.00888341, -0.05042748,  0.0259501 ,\n",
              "         0.04722413, -0.04340085,  0.07120998,  0.01482098,  0.00306441],\n",
              "       [ 0.04534098,  0.05068012,  0.01966154,  0.03908664,  0.02044629,\n",
              "         0.02593004,  0.00814208, -0.00259226, -0.00330084,  0.01963284],\n",
              "       [ 0.03807591,  0.05068012,  0.0164281 ,  0.02187239,  0.03970963,\n",
              "         0.04503209, -0.04340085,  0.07120998,  0.0497702 ,  0.01549073],\n",
              "       [ 0.01628068, -0.04464164, -0.02884001, -0.00911327, -0.00432087,\n",
              "        -0.00976889,  0.04495846, -0.03949338, -0.03074792, -0.04249877],\n",
              "       [ 0.05987114, -0.04464164, -0.02129532,  0.08728655,  0.04521344,\n",
              "         0.03156671, -0.04708248,  0.07120998,  0.07912244,  0.13561183],\n",
              "       [-0.06000263,  0.05068012,  0.05415152, -0.01944183, -0.04972731,\n",
              "        -0.04891244,  0.02286863, -0.03949338, -0.04398377, -0.0052198 ],\n",
              "       [ 0.03807591,  0.05068012, -0.02452876,  0.00465813, -0.02633611,\n",
              "        -0.02636575,  0.01550536, -0.03949338, -0.01599887, -0.02593034],\n",
              "       [-0.07453279,  0.05068012,  0.05522933, -0.04009893,  0.05346915,\n",
              "         0.05317395, -0.04340085,  0.07120998,  0.06123763, -0.03421455],\n",
              "       [-0.04547248,  0.05068012, -0.02452876,  0.05974375,  0.0053108 ,\n",
              "         0.01496984, -0.05444576,  0.07120998,  0.04234098,  0.01549073],\n",
              "       [ 0.08529891,  0.05068012,  0.04445121, -0.00567042, -0.04559945,\n",
              "        -0.03419447, -0.03235593, -0.00259226,  0.00286131, -0.02593034],\n",
              "       [-0.06726771,  0.05068012, -0.01267283, -0.04009893, -0.01532849,\n",
              "         0.00463594, -0.0581274 ,  0.03430886,  0.01919647, -0.03421455],\n",
              "       [ 0.0562386 ,  0.05068012,  0.02181716,  0.0563009 , -0.00707277,\n",
              "         0.01810133, -0.03235593, -0.00259226, -0.02364686,  0.02377494],\n",
              "       [ 0.02354575,  0.05068012,  0.06169621,  0.06205046,  0.02457414,\n",
              "        -0.03607336, -0.09126214,  0.15534454,  0.13339674,  0.08176444],\n",
              "       [ 0.01628068,  0.05068012, -0.046085  ,  0.01154383, -0.03321588,\n",
              "        -0.01603186, -0.01026611, -0.00259226, -0.04398377, -0.04249877],\n",
              "       [ 0.08166637,  0.05068012,  0.00672779, -0.00453428,  0.10988322,\n",
              "         0.11705624, -0.03235593,  0.09187461,  0.05471997,  0.00720652],\n",
              "       [-0.02730979,  0.05068012,  0.06061839,  0.10794366,  0.01219057,\n",
              "        -0.0175976 , -0.00290283, -0.00259226,  0.07020738,  0.13561183],\n",
              "       [-0.05273755, -0.04464164,  0.05415152, -0.02632753, -0.05523112,\n",
              "        -0.03388132, -0.01394774, -0.03949338, -0.07409261, -0.05906719],\n",
              "       [-0.04910502, -0.04464164,  0.00457217,  0.01154383, -0.03734373,\n",
              "        -0.01853704, -0.01762938, -0.00259226, -0.03980883, -0.02178823],\n",
              "       [ 0.07803383,  0.05068012, -0.02452876, -0.04240564,  0.00668676,\n",
              "         0.05286081, -0.06917231,  0.08080427, -0.03712884,  0.0569118 ],\n",
              "       [ 0.05987114,  0.05068012,  0.02289497,  0.04941519,  0.01631843,\n",
              "         0.01183836, -0.01394774, -0.00259226,  0.03954249,  0.01963284],\n",
              "       [ 0.02354575,  0.05068012, -0.03099563, -0.00567042, -0.01670444,\n",
              "         0.01778818, -0.03235593, -0.00259226, -0.07409261, -0.03421455],\n",
              "       [ 0.04170844,  0.05068012, -0.03854032,  0.05285804,  0.07686035,\n",
              "         0.11642994, -0.03971921,  0.07120998, -0.02251653, -0.01350402],\n",
              "       [-0.04183994, -0.04464164, -0.04931844, -0.03665608, -0.00707277,\n",
              "        -0.02260797,  0.08545648, -0.03949338, -0.0664902 ,  0.00720652],\n",
              "       [-0.00914709, -0.04464164, -0.01590626,  0.0700723 ,  0.01219057,\n",
              "         0.02217226,  0.01550536, -0.00259226, -0.03324559,  0.04862759],\n",
              "       [-0.06363517, -0.04464164,  0.03582872, -0.02288468, -0.03046397,\n",
              "        -0.01885019, -0.00658447, -0.00259226, -0.02595311, -0.05492509],\n",
              "       [ 0.05260606,  0.05068012, -0.02452876,  0.0563009 , -0.00707277,\n",
              "        -0.00507166, -0.02131102, -0.00259226,  0.02671684, -0.03835666],\n",
              "       [ 0.05987114,  0.05068012,  0.04121778,  0.01154383,  0.04108558,\n",
              "         0.07071027, -0.03603757,  0.03430886, -0.01090325, -0.03007245],\n",
              "       [ 0.04170844, -0.04464164, -0.00836158, -0.02632753,  0.02457414,\n",
              "         0.01622244,  0.07072993, -0.03949338, -0.04835926, -0.03007245],\n",
              "       [-0.00551455, -0.04464164,  0.0433734 ,  0.08728655,  0.01356652,\n",
              "         0.00714113, -0.01394774, -0.00259226,  0.04234098, -0.01764613],\n",
              "       [-0.00914709,  0.05068012, -0.01806189, -0.03321323, -0.0208323 ,\n",
              "         0.01215151, -0.07285395,  0.07120998,  0.00027248,  0.01963284],\n",
              "       [ 0.06350368,  0.05068012, -0.00189471,  0.06662945,  0.09061988,\n",
              "         0.10891438,  0.02286863,  0.01770335, -0.03581619,  0.00306441],\n",
              "       [ 0.01628068,  0.05068012,  0.00996123, -0.04354178, -0.09650971,\n",
              "        -0.09463212, -0.03971921, -0.03949338,  0.01703607,  0.00720652],\n",
              "       [ 0.01264814, -0.04464164, -0.02021751, -0.01599898,  0.01219057,\n",
              "         0.02123281, -0.07653559,  0.1081111 ,  0.0598794 , -0.02178823],\n",
              "       [ 0.01628068, -0.04464164, -0.046085  , -0.00567042, -0.07587041,\n",
              "        -0.06143838, -0.01394774, -0.03949338, -0.05140387,  0.01963284],\n",
              "       [-0.00188202,  0.05068012, -0.03315126, -0.01830569,  0.03145391,\n",
              "         0.04284006, -0.01394774,  0.01991742,  0.01022672,  0.02791705],\n",
              "       [ 0.07440129, -0.04464164,  0.114509  ,  0.02875809,  0.02457414,\n",
              "         0.02499059,  0.019187  , -0.00259226, -0.00061174, -0.0052198 ],\n",
              "       [-0.00551455, -0.04464164,  0.06492964,  0.03564379, -0.00156896,\n",
              "         0.01496984, -0.01394774,  0.00072884, -0.01811369,  0.03205916],\n",
              "       [ 0.05260606, -0.04464164, -0.02129532, -0.07452744, -0.04009564,\n",
              "        -0.0376391 , -0.00658447, -0.03949338, -0.00061174, -0.05492509],\n",
              "       [-0.02367725,  0.05068012, -0.02560657,  0.04252949, -0.05385517,\n",
              "        -0.04765985, -0.02131102, -0.03949338,  0.00114758,  0.01963284],\n",
              "       [ 0.01628068, -0.04464164, -0.04716281, -0.00222757, -0.01945635,\n",
              "        -0.04296262,  0.03391355, -0.03949338,  0.02736405,  0.02791705],\n",
              "       [-0.05273755, -0.04464164, -0.01267283, -0.06075604, -0.00019301,\n",
              "         0.00808058,  0.01182372, -0.00259226, -0.02712902, -0.05078298],\n",
              "       [-0.09632802, -0.04464164, -0.03638469, -0.07452744, -0.03871969,\n",
              "        -0.02761835,  0.01550536, -0.03949338, -0.07409261, -0.0010777 ],\n",
              "       [-0.00551455,  0.05068012,  0.00133873, -0.08485599, -0.01120063,\n",
              "        -0.01665815,  0.0486401 , -0.03949338, -0.04117617, -0.08806194],\n",
              "       [ 0.00175052,  0.05068012,  0.01103904, -0.01944183, -0.01670444,\n",
              "        -0.00381907, -0.04708248,  0.03430886,  0.02405509,  0.02377494],\n",
              "       [-0.10359309,  0.05068012, -0.046085  , -0.02632753, -0.02496016,\n",
              "        -0.02480001,  0.03023191, -0.03949338, -0.03980883, -0.05492509],\n",
              "       [-0.04547248, -0.04464164,  0.01535029, -0.07452744, -0.04972731,\n",
              "        -0.01728445, -0.02867429, -0.00259226, -0.10436552, -0.07563562],\n",
              "       [ 0.00175052,  0.05068012, -0.05794093, -0.04354178, -0.09650971,\n",
              "        -0.04703355, -0.09862541,  0.03430886, -0.0611758 , -0.07149352],\n",
              "       [-0.0382074 , -0.04464164,  0.06708527, -0.06075604, -0.02908802,\n",
              "        -0.02323427, -0.01026611, -0.00259226, -0.00149595,  0.01963284],\n",
              "       [-0.05273755,  0.05068012,  0.09834182,  0.08728655,  0.06034892,\n",
              "         0.04878988, -0.0581274 ,  0.1081111 ,  0.08449153,  0.04034337],\n",
              "       [ 0.0090156 , -0.04464164,  0.0164281 ,  0.00465813,  0.00943866,\n",
              "         0.01058576, -0.02867429,  0.03430886,  0.03896821,  0.1190434 ],\n",
              "       [-0.05273755, -0.04464164,  0.07139652, -0.07452744, -0.01532849,\n",
              "        -0.00131388,  0.00446045, -0.02141183, -0.04688253,  0.00306441],\n",
              "       [ 0.03081083, -0.04464164,  0.10480869,  0.076958  , -0.01120063,\n",
              "        -0.01133463, -0.0581274 ,  0.03430886,  0.05710826,  0.03620126],\n",
              "       [ 0.02354575, -0.04464164,  0.0703187 ,  0.02531524, -0.03459183,\n",
              "        -0.01446611, -0.03235593, -0.00259226, -0.01919845, -0.00936191],\n",
              "       [ 0.0562386 ,  0.05068012, -0.03099563,  0.00810098,  0.01907033,\n",
              "         0.02123281,  0.03391355, -0.03949338, -0.02952643, -0.05906719]])"
            ]
          },
          "metadata": {},
          "execution_count": 19
        }
      ]
    },
    {
      "cell_type": "code",
      "source": [
        "r2_score(y_test,y_pred)"
      ],
      "metadata": {
        "colab": {
          "base_uri": "https://localhost:8080/"
        },
        "id": "cVrUY1hyUwtu",
        "outputId": "5431a699-26c2-4628-887f-af00df0ef69e"
      },
      "execution_count": null,
      "outputs": [
        {
          "output_type": "execute_result",
          "data": {
            "text/plain": [
              "0.43993386615689634"
            ]
          },
          "metadata": {},
          "execution_count": 20
        }
      ]
    },
    {
      "cell_type": "code",
      "source": [
        "my_mlr.coef_"
      ],
      "metadata": {
        "colab": {
          "base_uri": "https://localhost:8080/"
        },
        "id": "JzfIusFIXuW9",
        "outputId": "49f5e9d4-10e8-4380-b441-b91985d15220"
      },
      "execution_count": null,
      "outputs": [
        {
          "output_type": "execute_result",
          "data": {
            "text/plain": [
              "array([  -9.15865318, -205.45432163,  516.69374454,  340.61999905,\n",
              "       -895.5520019 ,  561.22067904,  153.89310954,  126.73139688,\n",
              "        861.12700152,   52.42112238])"
            ]
          },
          "metadata": {},
          "execution_count": 21
        }
      ]
    },
    {
      "cell_type": "code",
      "source": [
        "my_mlr.intercept_"
      ],
      "metadata": {
        "colab": {
          "base_uri": "https://localhost:8080/"
        },
        "id": "VTD3AIxRXxWq",
        "outputId": "7b9b560a-127d-4db9-ec56-adc32f4445e3"
      },
      "execution_count": null,
      "outputs": [
        {
          "output_type": "execute_result",
          "data": {
            "text/plain": [
              "151.88331005254165"
            ]
          },
          "metadata": {},
          "execution_count": 22
        }
      ]
    }
  ]
}